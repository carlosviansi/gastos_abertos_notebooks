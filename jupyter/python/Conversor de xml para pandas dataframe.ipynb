{
 "metadata": {
  "name": "",
  "signature": "sha256:d4ce29b0af03ecffa7aece78e6c76f5c1327595109fb9ec99479e1021d88299d"
 },
 "nbformat": 3,
 "nbformat_minor": 0,
 "worksheets": [
  {
   "cells": [
    {
     "cell_type": "code",
     "collapsed": false,
     "input": [
      "import pandas as pd\n",
      "import bs4 import BeautifulSoup"
     ],
     "language": "python",
     "metadata": {},
     "outputs": [],
     "prompt_number": 1
    },
    {
     "cell_type": "code",
     "collapsed": false,
     "input": [
      "def convert_xml_df(file_in, file_out=None):\n",
      "    xml_file = open(file_in).read()\n",
      "    xml = BeautifulSoup(xml_file)\n",
      "    lines = xml.findAll('linha')\n",
      "\n",
      "    column_names = set()\n",
      "    for line in lines:\n",
      "        for col in line:\n",
      "            column_names.add(col.name)\n",
      "        \n",
      "    df = pd.DataFrame.from_records([{col.name: col.text for col in line} for line in lines],\n",
      "                           columns=column_names)\n",
      "\n",
      "    if not file_out:\n",
      "        file_out = file_in.replace('.xml', '.csv')\n",
      "        \n",
      "    df.to_csv(file_out, encoding='utf8', index=False)\n",
      "    return df"
     ],
     "language": "python",
     "metadata": {},
     "outputs": [],
     "prompt_number": 148
    },
    {
     "cell_type": "code",
     "collapsed": false,
     "input": [
      "emendas = convert_xml_df('../Emendas_Apresentadas_2014.xml')\n",
      "autores = convert_xml_df('../Autores_Valores_2014.xml')"
     ],
     "language": "python",
     "metadata": {},
     "outputs": [],
     "prompt_number": 132
    }
   ],
   "metadata": {}
  }
 ]
}