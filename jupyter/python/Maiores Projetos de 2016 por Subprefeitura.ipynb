{
 "cells": [
  {
   "cell_type": "code",
   "execution_count": 1,
   "metadata": {
    "collapsed": true
   },
   "outputs": [],
   "source": [
    "import pandas as pd"
   ]
  },
  {
   "cell_type": "markdown",
   "metadata": {},
   "source": [
    "# 1. Baixe os dados e carregue-os com o Pandas "
   ]
  },
  {
   "cell_type": "code",
   "execution_count": 2,
   "metadata": {
    "collapsed": true
   },
   "outputs": [],
   "source": [
    "data = pd.read_excel('BaseDadosQuadroDetalhadoDaAcao.xls')"
   ]
  },
  {
   "cell_type": "markdown",
   "metadata": {},
   "source": [
    "# 2. Agrupe os dados da planilha por Subprefeitura "
   ]
  },
  {
   "cell_type": "code",
   "execution_count": 3,
   "metadata": {
    "collapsed": false
   },
   "outputs": [],
   "source": [
    "data_sub = data.groupby('DESC_SUBPREFEITURA')"
   ]
  },
  {
   "cell_type": "markdown",
   "metadata": {},
   "source": [
    "# 3. Filtre os projetos de 2016 com maiores custos por Subprefeitura"
   ]
  },
  {
   "cell_type": "code",
   "execution_count": 70,
   "metadata": {
    "collapsed": false,
    "scrolled": false
   },
   "outputs": [
    {
     "data": {
      "text/html": [
       "<div>\n",
       "<table border=\"1\" class=\"dataframe\">\n",
       "  <thead>\n",
       "    <tr style=\"text-align: right;\">\n",
       "      <th></th>\n",
       "      <th>DESC_SUBPREFEITURA</th>\n",
       "      <th>COD_SUBPREFEITURA</th>\n",
       "      <th>DESC_PA</th>\n",
       "      <th>VALOR_DA</th>\n",
       "    </tr>\n",
       "  </thead>\n",
       "  <tbody>\n",
       "    <tr>\n",
       "      <th>1077</th>\n",
       "      <td>A Definir</td>\n",
       "      <td>99</td>\n",
       "      <td>Operação e Manutenção da Assistência Farmacêutica</td>\n",
       "      <td>2.539798e+08</td>\n",
       "    </tr>\n",
       "    <tr>\n",
       "      <th>1053</th>\n",
       "      <td>Subprefeitura Aricanduva/Formosa/Carrão</td>\n",
       "      <td>66</td>\n",
       "      <td>Intervenções de controle de cheias em bacias d...</td>\n",
       "      <td>1.800000e+07</td>\n",
       "    </tr>\n",
       "    <tr>\n",
       "      <th>1833</th>\n",
       "      <td>Subprefeitura Butantã</td>\n",
       "      <td>50</td>\n",
       "      <td>Urbanização de Favelas</td>\n",
       "      <td>2.400100e+07</td>\n",
       "    </tr>\n",
       "    <tr>\n",
       "      <th>349</th>\n",
       "      <td>Subprefeitura Campo Limpo</td>\n",
       "      <td>57</td>\n",
       "      <td>Implantação e Requalificação de Corredores</td>\n",
       "      <td>5.224671e+07</td>\n",
       "    </tr>\n",
       "    <tr>\n",
       "      <th>1014</th>\n",
       "      <td>Subprefeitura Capela do Socorro</td>\n",
       "      <td>59</td>\n",
       "      <td>Reforma e Ampliação do Autódromo de Interlagos</td>\n",
       "      <td>8.600537e+07</td>\n",
       "    </tr>\n",
       "    <tr>\n",
       "      <th>1454</th>\n",
       "      <td>Subprefeitura Casa Verde/Cachoeirinha</td>\n",
       "      <td>44</td>\n",
       "      <td>Administração da Unidade</td>\n",
       "      <td>1.225100e+07</td>\n",
       "    </tr>\n",
       "    <tr>\n",
       "      <th>1268</th>\n",
       "      <td>Subprefeitura Cidade Ademar</td>\n",
       "      <td>56</td>\n",
       "      <td>Intervenções de controle de cheias em bacias d...</td>\n",
       "      <td>8.000000e+07</td>\n",
       "    </tr>\n",
       "    <tr>\n",
       "      <th>1370</th>\n",
       "      <td>Subprefeitura Cidade Tiradentes</td>\n",
       "      <td>71</td>\n",
       "      <td>Administração da Unidade</td>\n",
       "      <td>1.432039e+07</td>\n",
       "    </tr>\n",
       "    <tr>\n",
       "      <th>392</th>\n",
       "      <td>Subprefeitura Ermelino Matarazzo</td>\n",
       "      <td>62</td>\n",
       "      <td>Administração da Unidade</td>\n",
       "      <td>1.542586e+07</td>\n",
       "    </tr>\n",
       "    <tr>\n",
       "      <th>1634</th>\n",
       "      <td>Subprefeitura Freguesia/Brasilândia</td>\n",
       "      <td>43</td>\n",
       "      <td>Construção, reforma e ampliação de Centros Edu...</td>\n",
       "      <td>4.206305e+07</td>\n",
       "    </tr>\n",
       "    <tr>\n",
       "      <th>636</th>\n",
       "      <td>Subprefeitura Guaianases</td>\n",
       "      <td>68</td>\n",
       "      <td>Administração da Unidade</td>\n",
       "      <td>2.100692e+07</td>\n",
       "    </tr>\n",
       "    <tr>\n",
       "      <th>1267</th>\n",
       "      <td>Subprefeitura Ipiranga</td>\n",
       "      <td>53</td>\n",
       "      <td>Intervenções de controle de cheias em bacias d...</td>\n",
       "      <td>9.748878e+07</td>\n",
       "    </tr>\n",
       "    <tr>\n",
       "      <th>1336</th>\n",
       "      <td>Subprefeitura Itaim Paulista</td>\n",
       "      <td>64</td>\n",
       "      <td>Administração da Unidade</td>\n",
       "      <td>1.807824e+07</td>\n",
       "    </tr>\n",
       "    <tr>\n",
       "      <th>1269</th>\n",
       "      <td>Subprefeitura Itaquera</td>\n",
       "      <td>67</td>\n",
       "      <td>Implantação e requalificação de terminais de ô...</td>\n",
       "      <td>1.544990e+08</td>\n",
       "    </tr>\n",
       "    <tr>\n",
       "      <th>1113</th>\n",
       "      <td>Subprefeitura Jabaquara</td>\n",
       "      <td>55</td>\n",
       "      <td>Urbanização de Favelas</td>\n",
       "      <td>7.000000e+07</td>\n",
       "    </tr>\n",
       "    <tr>\n",
       "      <th>564</th>\n",
       "      <td>Subprefeitura Jaçanã/Tremembé</td>\n",
       "      <td>46</td>\n",
       "      <td>Intervenções de controle de cheias em bacias d...</td>\n",
       "      <td>4.980153e+07</td>\n",
       "    </tr>\n",
       "    <tr>\n",
       "      <th>852</th>\n",
       "      <td>Subprefeitura Lapa</td>\n",
       "      <td>48</td>\n",
       "      <td>Intervenções de controle de cheias em bacias d...</td>\n",
       "      <td>6.000000e+07</td>\n",
       "    </tr>\n",
       "    <tr>\n",
       "      <th>97</th>\n",
       "      <td>Subprefeitura Moóca</td>\n",
       "      <td>65</td>\n",
       "      <td>Construção, Ampliação e Modernização de Centro...</td>\n",
       "      <td>1.420858e+08</td>\n",
       "    </tr>\n",
       "    <tr>\n",
       "      <th>148</th>\n",
       "      <td>Subprefeitura M´Boi Mirim</td>\n",
       "      <td>58</td>\n",
       "      <td>Intervenções de controle de cheias em bacias d...</td>\n",
       "      <td>1.619682e+08</td>\n",
       "    </tr>\n",
       "    <tr>\n",
       "      <th>822</th>\n",
       "      <td>Subprefeitura Parelheiros</td>\n",
       "      <td>60</td>\n",
       "      <td>Construção e Instalação do Hospital Municipal ...</td>\n",
       "      <td>1.073049e+08</td>\n",
       "    </tr>\n",
       "    <tr>\n",
       "      <th>268</th>\n",
       "      <td>Subprefeitura Penha</td>\n",
       "      <td>61</td>\n",
       "      <td>Construção, reforma e ampliação de Centros Edu...</td>\n",
       "      <td>3.355284e+07</td>\n",
       "    </tr>\n",
       "    <tr>\n",
       "      <th>1511</th>\n",
       "      <td>Subprefeitura Perus</td>\n",
       "      <td>41</td>\n",
       "      <td>Intervenções de controle de cheias em bacias d...</td>\n",
       "      <td>5.700000e+07</td>\n",
       "    </tr>\n",
       "    <tr>\n",
       "      <th>650</th>\n",
       "      <td>Subprefeitura Pinheiros</td>\n",
       "      <td>51</td>\n",
       "      <td>Urbanização de Favelas</td>\n",
       "      <td>4.000605e+07</td>\n",
       "    </tr>\n",
       "    <tr>\n",
       "      <th>1102</th>\n",
       "      <td>Subprefeitura Pirituba/Jaraguá</td>\n",
       "      <td>42</td>\n",
       "      <td>Construção da Ponte Raimundo Pereira de Magalhães</td>\n",
       "      <td>8.213000e+07</td>\n",
       "    </tr>\n",
       "    <tr>\n",
       "      <th>38</th>\n",
       "      <td>Subprefeitura Santana/Tucuruvi</td>\n",
       "      <td>45</td>\n",
       "      <td>Modernização do Complexo Anhembi</td>\n",
       "      <td>6.000000e+07</td>\n",
       "    </tr>\n",
       "    <tr>\n",
       "      <th>412</th>\n",
       "      <td>Subprefeitura Santo Amaro</td>\n",
       "      <td>54</td>\n",
       "      <td>Intervenções no Sistema Viário</td>\n",
       "      <td>1.880030e+08</td>\n",
       "    </tr>\n",
       "    <tr>\n",
       "      <th>322</th>\n",
       "      <td>Subprefeitura São Mateus</td>\n",
       "      <td>70</td>\n",
       "      <td>Intervenções de controle de cheias em bacias d...</td>\n",
       "      <td>9.395530e+07</td>\n",
       "    </tr>\n",
       "    <tr>\n",
       "      <th>946</th>\n",
       "      <td>Subprefeitura São Miguel</td>\n",
       "      <td>63</td>\n",
       "      <td>Construção, reforma e ampliação de Centros Edu...</td>\n",
       "      <td>3.297218e+07</td>\n",
       "    </tr>\n",
       "    <tr>\n",
       "      <th>1307</th>\n",
       "      <td>Subprefeitura Sé</td>\n",
       "      <td>49</td>\n",
       "      <td>Ações de difusão cultural do Theatro Municipal...</td>\n",
       "      <td>7.923240e+07</td>\n",
       "    </tr>\n",
       "    <tr>\n",
       "      <th>1191</th>\n",
       "      <td>Subprefeitura Vila Maria/Vila Guilherme</td>\n",
       "      <td>47</td>\n",
       "      <td>Construção, reforma e ampliação de Centros Edu...</td>\n",
       "      <td>3.695694e+07</td>\n",
       "    </tr>\n",
       "    <tr>\n",
       "      <th>1491</th>\n",
       "      <td>Subprefeitura Vila Mariana</td>\n",
       "      <td>52</td>\n",
       "      <td>Construção, Ampliação e Modernização de Centro...</td>\n",
       "      <td>1.420858e+08</td>\n",
       "    </tr>\n",
       "    <tr>\n",
       "      <th>713</th>\n",
       "      <td>Subprefeitura Vila Prudente</td>\n",
       "      <td>69</td>\n",
       "      <td>Construção, reforma e ampliação de Centros Edu...</td>\n",
       "      <td>3.588233e+07</td>\n",
       "    </tr>\n",
       "    <tr>\n",
       "      <th>1433</th>\n",
       "      <td>Subprefeitura de Sapopemba</td>\n",
       "      <td>72</td>\n",
       "      <td>Obras e Serviços nas Áreas de Riscos Geológicos</td>\n",
       "      <td>1.254990e+08</td>\n",
       "    </tr>\n",
       "    <tr>\n",
       "      <th>938</th>\n",
       "      <td>Supra-Regional</td>\n",
       "      <td>0</td>\n",
       "      <td>Aposentadorias e Pensões</td>\n",
       "      <td>7.104537e+09</td>\n",
       "    </tr>\n",
       "  </tbody>\n",
       "</table>\n",
       "</div>"
      ],
      "text/plain": [
       "                           DESC_SUBPREFEITURA  COD_SUBPREFEITURA  \\\n",
       "1077                                A Definir                 99   \n",
       "1053  Subprefeitura Aricanduva/Formosa/Carrão                 66   \n",
       "1833                    Subprefeitura Butantã                 50   \n",
       "349                 Subprefeitura Campo Limpo                 57   \n",
       "1014          Subprefeitura Capela do Socorro                 59   \n",
       "1454    Subprefeitura Casa Verde/Cachoeirinha                 44   \n",
       "1268              Subprefeitura Cidade Ademar                 56   \n",
       "1370          Subprefeitura Cidade Tiradentes                 71   \n",
       "392          Subprefeitura Ermelino Matarazzo                 62   \n",
       "1634      Subprefeitura Freguesia/Brasilândia                 43   \n",
       "636                  Subprefeitura Guaianases                 68   \n",
       "1267                   Subprefeitura Ipiranga                 53   \n",
       "1336             Subprefeitura Itaim Paulista                 64   \n",
       "1269                   Subprefeitura Itaquera                 67   \n",
       "1113                  Subprefeitura Jabaquara                 55   \n",
       "564             Subprefeitura Jaçanã/Tremembé                 46   \n",
       "852                        Subprefeitura Lapa                 48   \n",
       "97                        Subprefeitura Moóca                 65   \n",
       "148                 Subprefeitura M´Boi Mirim                 58   \n",
       "822                 Subprefeitura Parelheiros                 60   \n",
       "268                       Subprefeitura Penha                 61   \n",
       "1511                      Subprefeitura Perus                 41   \n",
       "650                   Subprefeitura Pinheiros                 51   \n",
       "1102           Subprefeitura Pirituba/Jaraguá                 42   \n",
       "38             Subprefeitura Santana/Tucuruvi                 45   \n",
       "412                 Subprefeitura Santo Amaro                 54   \n",
       "322                  Subprefeitura São Mateus                 70   \n",
       "946                  Subprefeitura São Miguel                 63   \n",
       "1307                         Subprefeitura Sé                 49   \n",
       "1191  Subprefeitura Vila Maria/Vila Guilherme                 47   \n",
       "1491               Subprefeitura Vila Mariana                 52   \n",
       "713               Subprefeitura Vila Prudente                 69   \n",
       "1433               Subprefeitura de Sapopemba                 72   \n",
       "938                            Supra-Regional                  0   \n",
       "\n",
       "                                                DESC_PA      VALOR_DA  \n",
       "1077  Operação e Manutenção da Assistência Farmacêutica  2.539798e+08  \n",
       "1053  Intervenções de controle de cheias em bacias d...  1.800000e+07  \n",
       "1833                             Urbanização de Favelas  2.400100e+07  \n",
       "349          Implantação e Requalificação de Corredores  5.224671e+07  \n",
       "1014     Reforma e Ampliação do Autódromo de Interlagos  8.600537e+07  \n",
       "1454                           Administração da Unidade  1.225100e+07  \n",
       "1268  Intervenções de controle de cheias em bacias d...  8.000000e+07  \n",
       "1370                           Administração da Unidade  1.432039e+07  \n",
       "392                            Administração da Unidade  1.542586e+07  \n",
       "1634  Construção, reforma e ampliação de Centros Edu...  4.206305e+07  \n",
       "636                            Administração da Unidade  2.100692e+07  \n",
       "1267  Intervenções de controle de cheias em bacias d...  9.748878e+07  \n",
       "1336                           Administração da Unidade  1.807824e+07  \n",
       "1269  Implantação e requalificação de terminais de ô...  1.544990e+08  \n",
       "1113                             Urbanização de Favelas  7.000000e+07  \n",
       "564   Intervenções de controle de cheias em bacias d...  4.980153e+07  \n",
       "852   Intervenções de controle de cheias em bacias d...  6.000000e+07  \n",
       "97    Construção, Ampliação e Modernização de Centro...  1.420858e+08  \n",
       "148   Intervenções de controle de cheias em bacias d...  1.619682e+08  \n",
       "822   Construção e Instalação do Hospital Municipal ...  1.073049e+08  \n",
       "268   Construção, reforma e ampliação de Centros Edu...  3.355284e+07  \n",
       "1511  Intervenções de controle de cheias em bacias d...  5.700000e+07  \n",
       "650                              Urbanização de Favelas  4.000605e+07  \n",
       "1102  Construção da Ponte Raimundo Pereira de Magalhães  8.213000e+07  \n",
       "38                     Modernização do Complexo Anhembi  6.000000e+07  \n",
       "412                      Intervenções no Sistema Viário  1.880030e+08  \n",
       "322   Intervenções de controle de cheias em bacias d...  9.395530e+07  \n",
       "946   Construção, reforma e ampliação de Centros Edu...  3.297218e+07  \n",
       "1307  Ações de difusão cultural do Theatro Municipal...  7.923240e+07  \n",
       "1191  Construção, reforma e ampliação de Centros Edu...  3.695694e+07  \n",
       "1491  Construção, Ampliação e Modernização de Centro...  1.420858e+08  \n",
       "713   Construção, reforma e ampliação de Centros Edu...  3.588233e+07  \n",
       "1433    Obras e Serviços nas Áreas de Riscos Geológicos  1.254990e+08  \n",
       "938                            Aposentadorias e Pensões  7.104537e+09  "
      ]
     },
     "execution_count": 70,
     "metadata": {},
     "output_type": "execute_result"
    }
   ],
   "source": [
    "max_proj = data.iloc[data_sub['VALOR_DA'].idxmax()][['DESC_SUBPREFEITURA', 'COD_SUBPREFEITURA', 'DESC_PA', 'VALOR_DA']]\n",
    "max_proj"
   ]
  },
  {
   "cell_type": "markdown",
   "metadata": {},
   "source": [
    "# 4. Carregue dados geográficos das subprefeituras\n",
    "\n",
    "Por exemplo usando o arquivo 'subprefeituras.csv' do nosso repositório https://github.com/okfn-brasil/gastos_abertos_dados/tree/master/GIS."
   ]
  },
  {
   "cell_type": "code",
   "execution_count": 33,
   "metadata": {
    "collapsed": false
   },
   "outputs": [],
   "source": [
    "mapa = pd.read_csv('subprefeituras.csv')"
   ]
  },
  {
   "cell_type": "markdown",
   "metadata": {},
   "source": [
    "# 5. Adicione à planilha acima os dados que extraímos dos projetos de 2016"
   ]
  },
  {
   "cell_type": "code",
   "execution_count": 39,
   "metadata": {
    "collapsed": true
   },
   "outputs": [],
   "source": [
    "mapa['subpreferitura_cod'] = [66, 50, 57, 44, 56, 71, 62, 43, 68, 53, 64, 67, 55, 48, 58, 65, 60, 61, 41, 51, 42, 45, 54, 70, 63, 49, -1, 46, 52, 69, 69]"
   ]
  },
  {
   "cell_type": "code",
   "execution_count": 64,
   "metadata": {
    "collapsed": false
   },
   "outputs": [],
   "source": [
    "descr = []\n",
    "valores = []\n",
    "\n",
    "for sc in mapa.subpreferitura_cod.values:\n",
    "    if sc != -1:\n",
    "        sub_max = max_proj[max_proj['COD_SUBPREFEITURA'] == sc]\n",
    "        valores.append(float(sub_max['VALOR_DA']))\n",
    "        descr.append(str(sub_max['DESC_PA']))\n",
    "    else:\n",
    "        valores.append(0)\n",
    "        descr.append(\"\")"
   ]
  },
  {
   "cell_type": "code",
   "execution_count": 65,
   "metadata": {
    "collapsed": false
   },
   "outputs": [],
   "source": [
    "mapa['valor'] = valores\n",
    "mapa['descr_proj'] = descr"
   ]
  },
  {
   "cell_type": "markdown",
   "metadata": {},
   "source": [
    "# 6. Salve a nova planilha"
   ]
  },
  {
   "cell_type": "code",
   "execution_count": 69,
   "metadata": {
    "collapsed": false
   },
   "outputs": [],
   "source": [
    "mapa.to_csv('mapa_top.csv')"
   ]
  },
  {
   "cell_type": "markdown",
   "metadata": {},
   "source": [
    "# 7. Publique no CartoDB!\n",
    "\n",
    "http://bit.ly/1lvKhHC\n",
    "\n",
    "<iframe width=\"100%\" height=\"520\" frameborder=\"0\" src=\"https://aivuk.cartodb.com/viz/5c369dec-9908-11e5-8af4-0ef24382571b/embed_map\" allowfullscreen webkitallowfullscreen mozallowfullscreen oallowfullscreen msallowfullscreen></iframe>"
   ]
  },
  {
   "cell_type": "code",
   "execution_count": null,
   "metadata": {
    "collapsed": true
   },
   "outputs": [],
   "source": []
  }
 ],
 "metadata": {
  "kernelspec": {
   "display_name": "Python 2",
   "language": "python",
   "name": "python2"
  },
  "language_info": {
   "codemirror_mode": {
    "name": "ipython",
    "version": 2
   },
   "file_extension": ".py",
   "mimetype": "text/x-python",
   "name": "python",
   "nbconvert_exporter": "python",
   "pygments_lexer": "ipython2",
   "version": "2.7.9"
  }
 },
 "nbformat": 4,
 "nbformat_minor": 0
}
