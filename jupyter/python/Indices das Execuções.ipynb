{
 "cells": [
  {
   "cell_type": "code",
   "execution_count": 21,
   "metadata": {
    "collapsed": false
   },
   "outputs": [],
   "source": [
    "import pandas as pd\n",
    "from IPython.display import HTML\n",
    "\n",
    "dados = pd.read_excel('basedadosexecucao2015.xls')\n",
    "\n",
    "orgaos_codigos = dados[['CD_ORGAO', 'DS_ORGAO']].drop_duplicates()\n",
    "\n",
    "# Vamos agrupar os orgão em Secretarias, Subprefeituras, Fundos e Outros.\n",
    "\n",
    "grupos = {'Secretarias': 'Secretaria', 'Subprefeituras': 'Subpref', 'Fundos': 'Fundo'}\n",
    "\n",
    "orgaos_grupos = {}\n",
    "\n",
    "for nome_grupo, orgao_filtro in grupos.items():\n",
    "    orgaos_grupos[nome_grupo] = orgaos_codigos[orgaos_codigos['DS_ORGAO'].str.startswith(orgao_filtro)]\n",
    "\n",
    "orgaos_grupos['Outros'] = orgaos_codigos[(~orgaos_codigos['DS_ORGAO'].str.startswith('Secretaria')) & \n",
    "                                         (~orgaos_codigos['DS_ORGAO'].str.startswith('Subpref')) & \n",
    "                                         (~orgaos_codigos['DS_ORGAO'].str.startswith('Fundo'))]\n",
    "\n",
    "page = ''\n",
    "for grupo, orgaos in orgaos_grupos.items():\n",
    "    page += '<p/><h1>{}</h1>'.format(grupo)\n",
    "    for orgao_codigo, orgao in orgaos.values:\n",
    "        page += u'<br/><a href=\"https://rawgit.com/okfn-brasil/gastos_abertos_notebooks/master/jupyter/python/orgao-{}.html\">{}</a>'.format(orgao_codigo, orgao)\n",
    "    \n"
   ]
  },
  {
   "cell_type": "code",
   "execution_count": 22,
   "metadata": {
    "collapsed": false
   },
   "outputs": [
    {
     "data": {
      "text/html": [
       "<p/><h1>Secretarias</h1><br/><a href=\"https://rawgit.com/okfn-brasil/gastos_abertos_notebooks/master/jupyter/python/orgao-11.html\">Secretaria do Governo Municipal</a><br/><a href=\"https://rawgit.com/okfn-brasil/gastos_abertos_notebooks/master/jupyter/python/orgao-12.html\">Secretaria Municipal de Coordenação das Subprefeituras</a><br/><a href=\"https://rawgit.com/okfn-brasil/gastos_abertos_notebooks/master/jupyter/python/orgao-13.html\">Secretaria Municipal de Gestão</a><br/><a href=\"https://rawgit.com/okfn-brasil/gastos_abertos_notebooks/master/jupyter/python/orgao-14.html\">Secretaria Municipal de Habitação</a><br/><a href=\"https://rawgit.com/okfn-brasil/gastos_abertos_notebooks/master/jupyter/python/orgao-16.html\">Secretaria Municipal de Educação</a><br/><a href=\"https://rawgit.com/okfn-brasil/gastos_abertos_notebooks/master/jupyter/python/orgao-17.html\">Secretaria Municipal de Finanças e Desenvolvimento Econômico </a><br/><a href=\"https://rawgit.com/okfn-brasil/gastos_abertos_notebooks/master/jupyter/python/orgao-19.html\">Secretaria Municipal de Esportes, Lazer e Recreação</a><br/><a href=\"https://rawgit.com/okfn-brasil/gastos_abertos_notebooks/master/jupyter/python/orgao-20.html\">Secretaria Municipal de Transportes</a><br/><a href=\"https://rawgit.com/okfn-brasil/gastos_abertos_notebooks/master/jupyter/python/orgao-21.html\">Secretaria Municipal dos Negócios Jurídicos</a><br/><a href=\"https://rawgit.com/okfn-brasil/gastos_abertos_notebooks/master/jupyter/python/orgao-22.html\">Secretaria Municipal de Infra-Estrutura Urbana e Obras</a><br/><a href=\"https://rawgit.com/okfn-brasil/gastos_abertos_notebooks/master/jupyter/python/orgao-23.html\">Secretaria Municipal de Serviços</a><br/><a href=\"https://rawgit.com/okfn-brasil/gastos_abertos_notebooks/master/jupyter/python/orgao-24.html\">Secretaria Municipal de Assistência e Desenvolvimento Social</a><br/><a href=\"https://rawgit.com/okfn-brasil/gastos_abertos_notebooks/master/jupyter/python/orgao-25.html\">Secretaria Municipal de Cultura</a><br/><a href=\"https://rawgit.com/okfn-brasil/gastos_abertos_notebooks/master/jupyter/python/orgao-27.html\">Secretaria Municipal do Verde e do Meio Ambiente</a><br/><a href=\"https://rawgit.com/okfn-brasil/gastos_abertos_notebooks/master/jupyter/python/orgao-30.html\">Secretaria Municipal do Desenvolvimento Trabalho e Empreendedorismo </a><br/><a href=\"https://rawgit.com/okfn-brasil/gastos_abertos_notebooks/master/jupyter/python/orgao-31.html\">Secretaria Municipal de Relações Internacionais e Federativas </a><br/><a href=\"https://rawgit.com/okfn-brasil/gastos_abertos_notebooks/master/jupyter/python/orgao-34.html\">Secretaria Municipal de Direitos Humanos e Cidadania </a><br/><a href=\"https://rawgit.com/okfn-brasil/gastos_abertos_notebooks/master/jupyter/python/orgao-36.html\">Secretaria Municipal da Pessoa com Deficiência e Mobilidade Reduzida</a><br/><a href=\"https://rawgit.com/okfn-brasil/gastos_abertos_notebooks/master/jupyter/python/orgao-37.html\">Secretaria Municipal de Desenvolvimento Urbano</a><br/><a href=\"https://rawgit.com/okfn-brasil/gastos_abertos_notebooks/master/jupyter/python/orgao-38.html\">Secretaria Municipal de Segurança Urbana</a><br/><a href=\"https://rawgit.com/okfn-brasil/gastos_abertos_notebooks/master/jupyter/python/orgao-39.html\">Secretaria Municipal de Promoção da Igualdade Racial </a><br/><a href=\"https://rawgit.com/okfn-brasil/gastos_abertos_notebooks/master/jupyter/python/orgao-40.html\">Secretaria Municipal de Relações Governamentais</a><br/><a href=\"https://rawgit.com/okfn-brasil/gastos_abertos_notebooks/master/jupyter/python/orgao-74.html\">Secretaria Municipal de Comunicação e Informação Social</a><br/><a href=\"https://rawgit.com/okfn-brasil/gastos_abertos_notebooks/master/jupyter/python/orgao-78.html\">Secretaria Municipal de Licenciamento</a><br/><a href=\"https://rawgit.com/okfn-brasil/gastos_abertos_notebooks/master/jupyter/python/orgao-79.html\">Secretaria Municipal de Políticas para as Mulheres</a><p/><h1>Outros</h1><br/><a href=\"https://rawgit.com/okfn-brasil/gastos_abertos_notebooks/master/jupyter/python/orgao-1.html\">Autarquia Hospitalar Municipal</a><br/><a href=\"https://rawgit.com/okfn-brasil/gastos_abertos_notebooks/master/jupyter/python/orgao-2.html\">Hospital do Servidor Público Municipal</a><br/><a href=\"https://rawgit.com/okfn-brasil/gastos_abertos_notebooks/master/jupyter/python/orgao-3.html\">Instituto de Previdência Municipal de São Paulo</a><br/><a href=\"https://rawgit.com/okfn-brasil/gastos_abertos_notebooks/master/jupyter/python/orgao-4.html\">Serviço Funerário do Município de São Paulo</a><br/><a href=\"https://rawgit.com/okfn-brasil/gastos_abertos_notebooks/master/jupyter/python/orgao-9.html\">Câmara Municipal de São Paulo</a><br/><a href=\"https://rawgit.com/okfn-brasil/gastos_abertos_notebooks/master/jupyter/python/orgao-10.html\">Tribunal de Contas do Município de São Paulo</a><br/><a href=\"https://rawgit.com/okfn-brasil/gastos_abertos_notebooks/master/jupyter/python/orgao-28.html\">Encargos Gerais do Município</a><br/><a href=\"https://rawgit.com/okfn-brasil/gastos_abertos_notebooks/master/jupyter/python/orgao-32.html\">Controladoria Geral do Município de São Paulo</a><br/><a href=\"https://rawgit.com/okfn-brasil/gastos_abertos_notebooks/master/jupyter/python/orgao-80.html\">Fundação Paulistana de Educação e Tecnologia</a><br/><a href=\"https://rawgit.com/okfn-brasil/gastos_abertos_notebooks/master/jupyter/python/orgao-81.html\">Autoridade Municipal de Limpeza Urbana/Fundo Munic.de Limpeza Urbana</a><br/><a href=\"https://rawgit.com/okfn-brasil/gastos_abertos_notebooks/master/jupyter/python/orgao-83.html\">Companhia Metropolitana de Habitação de São Paulo</a><br/><a href=\"https://rawgit.com/okfn-brasil/gastos_abertos_notebooks/master/jupyter/python/orgao-85.html\">Fundação Theatro Municipal de São Paulo</a><p/><h1>Fundos</h1><br/><a href=\"https://rawgit.com/okfn-brasil/gastos_abertos_notebooks/master/jupyter/python/orgao-75.html\">Fundo Municipal de Parques</a><br/><a href=\"https://rawgit.com/okfn-brasil/gastos_abertos_notebooks/master/jupyter/python/orgao-76.html\">Fundo Especial de Despesas da Câmara Municipal de São Paulo</a><br/><a href=\"https://rawgit.com/okfn-brasil/gastos_abertos_notebooks/master/jupyter/python/orgao-77.html\">Fundo Especial de Despesas do Tribunal de Contas </a><br/><a href=\"https://rawgit.com/okfn-brasil/gastos_abertos_notebooks/master/jupyter/python/orgao-84.html\">Fundo Municipal de Saúde</a><br/><a href=\"https://rawgit.com/okfn-brasil/gastos_abertos_notebooks/master/jupyter/python/orgao-86.html\">Fundo Municipal de Saneamento Ambiental e Infraestrutura</a><br/><a href=\"https://rawgit.com/okfn-brasil/gastos_abertos_notebooks/master/jupyter/python/orgao-87.html\">Fundo Municipal de Desenvolvimento de Trânsito</a><br/><a href=\"https://rawgit.com/okfn-brasil/gastos_abertos_notebooks/master/jupyter/python/orgao-88.html\">Fundo de Preservação do Patrimônio Histórico e Cultural</a><br/><a href=\"https://rawgit.com/okfn-brasil/gastos_abertos_notebooks/master/jupyter/python/orgao-89.html\">Fundo Municipal de Esportes, Lazer e Recreação</a><br/><a href=\"https://rawgit.com/okfn-brasil/gastos_abertos_notebooks/master/jupyter/python/orgao-90.html\">Fundo Municipal dos Direitos da Criança e do Adolescente</a><br/><a href=\"https://rawgit.com/okfn-brasil/gastos_abertos_notebooks/master/jupyter/python/orgao-91.html\">Fundo Municipal de Habitação</a><br/><a href=\"https://rawgit.com/okfn-brasil/gastos_abertos_notebooks/master/jupyter/python/orgao-93.html\">Fundo Municipal de Assistência Social</a><br/><a href=\"https://rawgit.com/okfn-brasil/gastos_abertos_notebooks/master/jupyter/python/orgao-94.html\">Fundo Especial do Meio Ambiente e Desenvolvimento Sustentável</a><br/><a href=\"https://rawgit.com/okfn-brasil/gastos_abertos_notebooks/master/jupyter/python/orgao-95.html\">Fundo Especial de Promoção de Atividades Culturais</a><br/><a href=\"https://rawgit.com/okfn-brasil/gastos_abertos_notebooks/master/jupyter/python/orgao-96.html\">Fundo Municipal de Turismo</a><br/><a href=\"https://rawgit.com/okfn-brasil/gastos_abertos_notebooks/master/jupyter/python/orgao-97.html\">Fundo de Proteção do Patrimônio Cultural e Ambiental Paulistano</a><br/><a href=\"https://rawgit.com/okfn-brasil/gastos_abertos_notebooks/master/jupyter/python/orgao-98.html\">Fundo de Desenvolvimento Urbano</a><br/><a href=\"https://rawgit.com/okfn-brasil/gastos_abertos_notebooks/master/jupyter/python/orgao-99.html\">Fundo Municipal de Iluminação Pública</a><p/><h1>Subprefeituras</h1><br/><a href=\"https://rawgit.com/okfn-brasil/gastos_abertos_notebooks/master/jupyter/python/orgao-41.html\">Subprefeitura Perus</a><br/><a href=\"https://rawgit.com/okfn-brasil/gastos_abertos_notebooks/master/jupyter/python/orgao-42.html\">Subprefeitura Pirituba/Jaraguá</a><br/><a href=\"https://rawgit.com/okfn-brasil/gastos_abertos_notebooks/master/jupyter/python/orgao-43.html\">Subprefeitura Freguesia/Brasilândia</a><br/><a href=\"https://rawgit.com/okfn-brasil/gastos_abertos_notebooks/master/jupyter/python/orgao-44.html\">Subprefeitura Casa Verde/Cachoeirinha</a><br/><a href=\"https://rawgit.com/okfn-brasil/gastos_abertos_notebooks/master/jupyter/python/orgao-45.html\">Subprefeitura Santana/Tucuruvi</a><br/><a href=\"https://rawgit.com/okfn-brasil/gastos_abertos_notebooks/master/jupyter/python/orgao-46.html\">Subprefeitura Jaçanã/Tremembé</a><br/><a href=\"https://rawgit.com/okfn-brasil/gastos_abertos_notebooks/master/jupyter/python/orgao-47.html\">Subprefeitura Vila Maria/Vila Guilherme</a><br/><a href=\"https://rawgit.com/okfn-brasil/gastos_abertos_notebooks/master/jupyter/python/orgao-48.html\">Subprefeitura Lapa</a><br/><a href=\"https://rawgit.com/okfn-brasil/gastos_abertos_notebooks/master/jupyter/python/orgao-49.html\">Subprefeitura Sé</a><br/><a href=\"https://rawgit.com/okfn-brasil/gastos_abertos_notebooks/master/jupyter/python/orgao-50.html\">Subprefeitura Butantã</a><br/><a href=\"https://rawgit.com/okfn-brasil/gastos_abertos_notebooks/master/jupyter/python/orgao-51.html\">Subprefeitura Pinheiros</a><br/><a href=\"https://rawgit.com/okfn-brasil/gastos_abertos_notebooks/master/jupyter/python/orgao-52.html\">Subprefeitura Vila Mariana</a><br/><a href=\"https://rawgit.com/okfn-brasil/gastos_abertos_notebooks/master/jupyter/python/orgao-53.html\">Subprefeitura Ipiranga</a><br/><a href=\"https://rawgit.com/okfn-brasil/gastos_abertos_notebooks/master/jupyter/python/orgao-54.html\">Subprefeitura Santo Amaro</a><br/><a href=\"https://rawgit.com/okfn-brasil/gastos_abertos_notebooks/master/jupyter/python/orgao-55.html\">Subprefeitura Jabaquara</a><br/><a href=\"https://rawgit.com/okfn-brasil/gastos_abertos_notebooks/master/jupyter/python/orgao-56.html\">Subprefeitura Cidade Ademar</a><br/><a href=\"https://rawgit.com/okfn-brasil/gastos_abertos_notebooks/master/jupyter/python/orgao-57.html\">Subprefeitura Campo Limpo</a><br/><a href=\"https://rawgit.com/okfn-brasil/gastos_abertos_notebooks/master/jupyter/python/orgao-58.html\">Subprefeitura M´Boi Mirim</a><br/><a href=\"https://rawgit.com/okfn-brasil/gastos_abertos_notebooks/master/jupyter/python/orgao-59.html\">Subprefeitura Capela do Socorro</a><br/><a href=\"https://rawgit.com/okfn-brasil/gastos_abertos_notebooks/master/jupyter/python/orgao-60.html\">Subprefeitura Parelheiros</a><br/><a href=\"https://rawgit.com/okfn-brasil/gastos_abertos_notebooks/master/jupyter/python/orgao-61.html\">Subprefeitura Penha</a><br/><a href=\"https://rawgit.com/okfn-brasil/gastos_abertos_notebooks/master/jupyter/python/orgao-62.html\">Subprefeitura Ermelino Matarazzo</a><br/><a href=\"https://rawgit.com/okfn-brasil/gastos_abertos_notebooks/master/jupyter/python/orgao-63.html\">Subprefeitura São Miguel</a><br/><a href=\"https://rawgit.com/okfn-brasil/gastos_abertos_notebooks/master/jupyter/python/orgao-64.html\">Subprefeitura do Itaim Paulista</a><br/><a href=\"https://rawgit.com/okfn-brasil/gastos_abertos_notebooks/master/jupyter/python/orgao-65.html\">Subprefeitura Moóca</a><br/><a href=\"https://rawgit.com/okfn-brasil/gastos_abertos_notebooks/master/jupyter/python/orgao-66.html\">Subprefeitura Aricanduva/Formosa/Carrão</a><br/><a href=\"https://rawgit.com/okfn-brasil/gastos_abertos_notebooks/master/jupyter/python/orgao-67.html\">Subprefeitura Itaquera</a><br/><a href=\"https://rawgit.com/okfn-brasil/gastos_abertos_notebooks/master/jupyter/python/orgao-68.html\">Subprefeitura Guaianases</a><br/><a href=\"https://rawgit.com/okfn-brasil/gastos_abertos_notebooks/master/jupyter/python/orgao-69.html\">Subprefeitura Vila Prudente</a><br/><a href=\"https://rawgit.com/okfn-brasil/gastos_abertos_notebooks/master/jupyter/python/orgao-70.html\">Subprefeitura São Mateus</a><br/><a href=\"https://rawgit.com/okfn-brasil/gastos_abertos_notebooks/master/jupyter/python/orgao-71.html\">Subprefeitura Cidade Tiradentes</a><br/><a href=\"https://rawgit.com/okfn-brasil/gastos_abertos_notebooks/master/jupyter/python/orgao-72.html\">Subprefeitura de Sapopemba</a>"
      ],
      "text/plain": [
       "<IPython.core.display.HTML object>"
      ]
     },
     "execution_count": 22,
     "metadata": {},
     "output_type": "execute_result"
    }
   ],
   "source": [
    "HTML(page)"
   ]
  },
  {
   "cell_type": "code",
   "execution_count": null,
   "metadata": {
    "collapsed": true
   },
   "outputs": [],
   "source": []
  }
 ],
 "metadata": {
  "kernelspec": {
   "display_name": "Python 2",
   "language": "python",
   "name": "python2"
  },
  "language_info": {
   "codemirror_mode": {
    "name": "ipython",
    "version": 2
   },
   "file_extension": ".py",
   "mimetype": "text/x-python",
   "name": "python",
   "nbconvert_exporter": "python",
   "pygments_lexer": "ipython2",
   "version": "2.7.9"
  }
 },
 "nbformat": 4,
 "nbformat_minor": 0
}
